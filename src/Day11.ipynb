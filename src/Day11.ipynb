{
 "cells": [
  {
   "metadata": {
    "ExecuteTime": {
     "end_time": "2024-12-11T07:49:51.648865Z",
     "start_time": "2024-12-11T07:49:51.218986Z"
    }
   },
   "cell_type": "code",
   "source": "%use adventOfCode",
   "outputs": [],
   "execution_count": 1
  },
  {
   "metadata": {
    "collapsed": true,
    "ExecuteTime": {
     "end_time": "2024-12-11T07:49:51.743482Z",
     "start_time": "2024-12-11T07:49:51.655448Z"
    }
   },
   "cell_type": "code",
   "source": [
    "val puzzle = AocClient.fromEnv().interactiveDay(2024, 11)\n",
    "puzzle.viewPartOne()"
   ],
   "outputs": [
    {
     "data": {
      "text/html": [
       "<h2>--- Day 11: Plutonian Pebbles ---</h2>\n",
       "<p>The ancient civilization on <a href=\"/2019/day/20\">Pluto</a> was known for its ability to manipulate spacetime, and while The Historians explore their infinite corridors, you've noticed a strange set of physics-defying stones.</p> \n",
       "<p>At first glance, they seem like normal stones: they're arranged in a perfectly <em>straight line</em>, and each stone has a <em>number</em> engraved on it.</p> \n",
       "<p>The strange part is that every time you <span title=\"No, they're not statues. Why do you ask?\">blink</span>, the stones <em>change</em>.</p> \n",
       "<p>Sometimes, the number engraved on a stone changes. Other times, a stone might <em>split in two</em>, causing all the other stones to shift over a bit to make room in their perfectly straight line.</p> \n",
       "<p>As you observe them for a while, you find that the stones have a consistent behavior. Every time you blink, the stones each <em>simultaneously</em> change according to the <em>first applicable rule</em> in this list:</p> \n",
       "<ul> \n",
       " <li>If the stone is engraved with the number <code>0</code>, it is replaced by a stone engraved with the number <code>1</code>.</li> \n",
       " <li>If the stone is engraved with a number that has an <em>even</em> number of digits, it is replaced by <em>two stones</em>. The left half of the digits are engraved on the new left stone, and the right half of the digits are engraved on the new right stone. (The new numbers don't keep extra leading zeroes: <code>1000</code> would become stones <code>10</code> and <code>0</code>.)</li> \n",
       " <li>If none of the other rules apply, the stone is replaced by a new stone; the old stone's number <em>multiplied by 2024</em> is engraved on the new stone.</li> \n",
       "</ul> \n",
       "<p>No matter how the stones change, their <em>order is preserved</em>, and they stay on their perfectly straight line.</p> \n",
       "<p>How will the stones evolve if you keep blinking at them? You take a note of the number engraved on each stone in the line (your puzzle input).</p> \n",
       "<p>If you have an arrangement of five stones engraved with the numbers <code>0 1 10 99 999</code> and you blink once, the stones transform as follows:</p> \n",
       "<ul> \n",
       " <li>The first stone, <code>0</code>, becomes a stone marked <code>1</code>.</li> \n",
       " <li>The second stone, <code>1</code>, is multiplied by 2024 to become <code>2024</code>.</li> \n",
       " <li>The third stone, <code>10</code>, is split into a stone marked <code>1</code> followed by a stone marked <code>0</code>.</li> \n",
       " <li>The fourth stone, <code>99</code>, is split into two stones marked <code>9</code>.</li> \n",
       " <li>The fifth stone, <code>999</code>, is replaced by a stone marked <code>2021976</code>.</li> \n",
       "</ul> \n",
       "<p>So, after blinking once, your five stones would become an arrangement of seven stones engraved with the numbers <code>1 2024 1 0 9 9 2021976</code>.</p> \n",
       "<p>Here is a longer example:</p> \n",
       "<pre><code>Initial arrangement:\n",
       "125 17\n",
       "\n",
       "After 1 blink:\n",
       "253000 1 7\n",
       "\n",
       "After 2 blinks:\n",
       "253 0 2024 14168\n",
       "\n",
       "After 3 blinks:\n",
       "512072 1 20 24 28676032\n",
       "\n",
       "After 4 blinks:\n",
       "512 72 2024 2 0 2 4 2867 6032\n",
       "\n",
       "After 5 blinks:\n",
       "1036288 7 2 20 24 4048 1 4048 8096 28 67 60 32\n",
       "\n",
       "After 6 blinks:\n",
       "2097446912 14168 4048 2 0 2 4 40 48 2024 40 48 80 96 2 8 6 7 6 0 3 2\n",
       "</code></pre> \n",
       "<p>In this example, after blinking six times, you would have <code>22</code> stones. After blinking 25 times, you would have <code><em>55312</em></code> stones!</p> \n",
       "<p>Consider the arrangement of stones in front of you. <em>How many stones will you have after blinking 25 times?</em></p>"
      ]
     },
     "execution_count": 2,
     "metadata": {},
     "output_type": "execute_result"
    }
   ],
   "execution_count": 2
  },
  {
   "metadata": {
    "ExecuteTime": {
     "end_time": "2024-12-11T08:09:13.636062Z",
     "start_time": "2024-12-11T08:09:13.549593Z"
    }
   },
   "cell_type": "code",
   "source": [
    "val testInput = \"125 17\"\n",
    "\n",
    "class Solution {\n",
    "    val knownLengths: MutableMap<Pair<Long, Int>, Long> = mutableMapOf()\n",
    "    fun parse(input: String) = input.longsOrZero()\n",
    "\n",
    "    fun blink(stone: Long): List<Long> {\n",
    "        if (stone == 0L)\n",
    "            return listOf(1)\n",
    "        val stoneText = stone.toString()\n",
    "        val length = stoneText.length\n",
    "        if (length % 2 == 0)\n",
    "            return listOf(stoneText.substring(0, length / 2).toLong(), stoneText.substring(length / 2, length).toLong())\n",
    "        return listOf(stone * 2024L)\n",
    "    }\n",
    "\n",
    "    fun blink(stone: Long, times: Int): Long {\n",
    "        val key: Pair<Long, Int> = stone to times\n",
    "        return knownLengths.getOrPut(key) {\n",
    "            if (times == 0) 1L else blink(stone).sumOf { blink(it, times - 1) }\n",
    "        }\n",
    "    }\n",
    "\n",
    "    fun blink(stones: List<Long>, times: Int): Long = stones.sumOf { blink(it, times) }\n",
    "\n",
    "    fun part1(input: String): Long = blink(parse(input), 25)\n",
    "    fun part2(input: String): Long = blink(parse(input), 75)\n",
    "}\n",
    "Solution().part2(testInput)\n"
   ],
   "outputs": [
    {
     "data": {
      "text/plain": [
       "65601038650482"
      ]
     },
     "execution_count": 40,
     "metadata": {},
     "output_type": "execute_result"
    }
   ],
   "execution_count": 40
  },
  {
   "metadata": {
    "ExecuteTime": {
     "end_time": "2024-12-11T07:58:47.126494Z",
     "start_time": "2024-12-11T07:58:47.024008Z"
    }
   },
   "cell_type": "code",
   "source": "Solution().part1(puzzle.input())\n",
   "outputs": [
    {
     "data": {
      "text/plain": [
       "217812"
      ]
     },
     "execution_count": 21,
     "metadata": {},
     "output_type": "execute_result"
    }
   ],
   "execution_count": 21
  },
  {
   "metadata": {
    "ExecuteTime": {
     "end_time": "2024-12-11T08:09:16.404446Z",
     "start_time": "2024-12-11T08:09:16.322336Z"
    }
   },
   "cell_type": "code",
   "source": [
    "//parse(testInput)\n",
    "Solution().part2(puzzle.input())\n"
   ],
   "outputs": [
    {
     "data": {
      "text/plain": [
       "259112729857522"
      ]
     },
     "execution_count": 41,
     "metadata": {},
     "output_type": "execute_result"
    }
   ],
   "execution_count": 41
  }
 ],
 "metadata": {
  "kernelspec": {
   "display_name": "Kotlin",
   "language": "kotlin",
   "name": "kotlin"
  },
  "language_info": {
   "name": "kotlin",
   "version": "1.9.23",
   "mimetype": "text/x-kotlin",
   "file_extension": ".kt",
   "pygments_lexer": "kotlin",
   "codemirror_mode": "text/x-kotlin",
   "nbconvert_exporter": ""
  },
  "ktnbPluginMetadata": {
   "projectDependencies": [
    "MyAdventOfCode2024.jvmMain"
   ],
   "projectLibraries": false
  }
 },
 "nbformat": 4,
 "nbformat_minor": 0
}
