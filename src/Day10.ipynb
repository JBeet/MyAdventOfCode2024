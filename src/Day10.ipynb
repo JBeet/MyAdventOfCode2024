{
 "cells": [
  {
   "metadata": {
    "ExecuteTime": {
     "end_time": "2024-12-10T07:47:24.739619Z",
     "start_time": "2024-12-10T07:47:24.153884Z"
    }
   },
   "cell_type": "code",
   "source": "%use adventOfCode",
   "outputs": [],
   "execution_count": 1
  },
  {
   "metadata": {
    "ExecuteTime": {
     "end_time": "2024-12-10T07:47:24.897300Z",
     "start_time": "2024-12-10T07:47:24.788152Z"
    }
   },
   "cell_type": "code",
   "source": [
    "val puzzle = AocClient.fromEnv().interactiveDay(2024, 10)\n",
    "puzzle.viewPartOne()"
   ],
   "outputs": [
    {
     "data": {
      "text/html": [
       "<h2>--- Day 10: Hoof It ---</h2>\n",
       "<p>You all arrive at a <a href=\"/2023/day/15\">Lava Production Facility</a> on a floating island in the sky. As the others begin to search the massive industrial complex, you feel a small nose boop your leg and look down to discover a <span title=\"i knew you would come back\">reindeer</span> wearing a hard hat.</p> \n",
       "<p>The reindeer is holding a book titled \"Lava Island Hiking Guide\". However, when you open the book, you discover that most of it seems to have been scorched by lava! As you're about to ask how you can help, the reindeer brings you a blank <a href=\"https://en.wikipedia.org/wiki/Topographic_map\" target=\"_blank\">topographic map</a> of the surrounding area (your puzzle input) and looks up at you excitedly.</p> \n",
       "<p>Perhaps you can help fill in the missing hiking trails?</p> \n",
       "<p>The topographic map indicates the <em>height</em> at each position using a scale from <code>0</code> (lowest) to <code>9</code> (highest). For example:</p> \n",
       "<pre><code>0123\n",
       "1234\n",
       "8765\n",
       "9876\n",
       "</code></pre> \n",
       "<p>Based on un-scorched scraps of the book, you determine that a good hiking trail is <em>as long as possible</em> and has an <em>even, gradual, uphill slope</em>. For all practical purposes, this means that a <em>hiking trail</em> is any path that starts at height <code>0</code>, ends at height <code>9</code>, and always increases by a height of exactly 1 at each step. Hiking trails never include diagonal steps - only up, down, left, or right (from the perspective of the map).</p> \n",
       "<p>You look up from the map and notice that the reindeer has helpfully begun to construct a small pile of pencils, markers, rulers, compasses, stickers, and other equipment you might need to update the map with hiking trails.</p> \n",
       "<p>A <em>trailhead</em> is any position that starts one or more hiking trails - here, these positions will always have height <code>0</code>. Assembling more fragments of pages, you establish that a trailhead's <em>score</em> is the number of <code>9</code>-height positions reachable from that trailhead via a hiking trail. In the above example, the single trailhead in the top left corner has a score of <code>1</code> because it can reach a single <code>9</code> (the one in the bottom left).</p> \n",
       "<p>This trailhead has a score of <code>2</code>:</p> \n",
       "<pre><code>...0...\n",
       "...1...\n",
       "...2...\n",
       "6543456\n",
       "7.....7\n",
       "8.....8\n",
       "9.....9\n",
       "</code></pre> \n",
       "<p>(The positions marked <code>.</code> are impassable tiles to simplify these examples; they do not appear on your actual topographic map.)</p> \n",
       "<p>This trailhead has a score of <code>4</code> because every <code>9</code> is reachable via a hiking trail except the one immediately to the left of the trailhead:</p> \n",
       "<pre><code>..90..9\n",
       "...1.98\n",
       "...2..7\n",
       "6543456\n",
       "765.987\n",
       "876....\n",
       "987....\n",
       "</code></pre> \n",
       "<p>This topographic map contains <em>two</em> trailheads; the trailhead at the top has a score of <code>1</code>, while the trailhead at the bottom has a score of <code>2</code>:</p> \n",
       "<pre><code>10..9..\n",
       "2...8..\n",
       "3...7..\n",
       "4567654\n",
       "...8..3\n",
       "...9..2\n",
       ".....01\n",
       "</code></pre> \n",
       "<p>Here's a larger example:</p> \n",
       "<pre><code>89010123\n",
       "78121874\n",
       "87430965\n",
       "96549874\n",
       "45678903\n",
       "32019012\n",
       "01329801\n",
       "10456732\n",
       "</code></pre> \n",
       "<p>This larger example has 9 trailheads. Considering the trailheads in reading order, they have scores of <code>5</code>, <code>6</code>, <code>5</code>, <code>3</code>, <code>1</code>, <code>3</code>, <code>5</code>, <code>3</code>, and <code>5</code>. Adding these scores together, the sum of the scores of all trailheads is <code><em>36</em></code>.</p> \n",
       "<p>The reindeer gleefully carries over a protractor and adds it to the pile. <em>What is the sum of the scores of all trailheads on your topographic map?</em></p>"
      ]
     },
     "execution_count": 2,
     "metadata": {},
     "output_type": "execute_result"
    }
   ],
   "execution_count": 2
  },
  {
   "metadata": {
    "ExecuteTime": {
     "end_time": "2024-12-10T08:04:05.778973Z",
     "start_time": "2024-12-10T08:04:05.603823Z"
    }
   },
   "cell_type": "code",
   "source": [
    "val testInput = \"\"\"89010123\n",
    "78121874\n",
    "87430965\n",
    "96549874\n",
    "45678903\n",
    "32019012\n",
    "01329801\n",
    "10456732\"\"\"\n",
    "\n",
    "fun parse(input: String) = CharGrid(input)\n",
    "\n",
    "class Solver(val grid: CharGrid) {\n",
    "    val route = \"0123456789\".toList()\n",
    "    val trailHeads = grid.findAll('0')\n",
    "    fun score(trailHead: Position): Int = findPaths(trailHead, 0).map { it.last() }.toSet().count()\n",
    "\n",
    "    fun rating(trailHead: Position): Int = findPaths(trailHead, 0).toSet().count()\n",
    "\n",
    "    fun findPaths(cur: Position, routeIndex: Int): Sequence<List<Position>> {\n",
    "        if (routeIndex >= route.size) return sequenceOf(emptyList())\n",
    "        if (grid[cur] != route[routeIndex]) return emptySequence()\n",
    "        return Direction.entries.map { cur + it }.asSequence().flatMap { newPos ->\n",
    "            findPaths(newPos, routeIndex + 1)\n",
    "        }.map { listOf(cur) + it }\n",
    "    }\n",
    "\n",
    "    fun part1() = trailHeads.sumOf { score(it) }\n",
    "    fun part2() = trailHeads.sumOf { rating(it) }\n",
    "}\n",
    "\n",
    "Solver(parse(puzzle.input())).part1()\n"
   ],
   "outputs": [
    {
     "data": {
      "text/plain": [
       "557"
      ]
     },
     "execution_count": 35,
     "metadata": {},
     "output_type": "execute_result"
    }
   ],
   "execution_count": 35
  },
  {
   "metadata": {
    "ExecuteTime": {
     "end_time": "2024-12-10T08:01:48.532517Z",
     "start_time": "2024-12-10T08:01:48.057503Z"
    }
   },
   "cell_type": "code",
   "source": "puzzle.submitPartOne(557)",
   "outputs": [
    {
     "data": {
      "text/html": [
       "<div>\n",
       "    <p>Your answer: 557.</p>\n",
       "    <p>That's the right answer! You are <span class=\"day-success\">one gold star</span> closer to finding the Chief Historian. <a href=\"/2024/day/10#part2\">[Continue to Part Two]</a></p>\n",
       "</div>"
      ]
     },
     "execution_count": 28,
     "metadata": {},
     "output_type": "execute_result"
    }
   ],
   "execution_count": 28
  },
  {
   "metadata": {
    "ExecuteTime": {
     "end_time": "2024-12-10T08:01:57.911627Z",
     "start_time": "2024-12-10T08:01:57.447057Z"
    }
   },
   "cell_type": "code",
   "source": "puzzle.viewPartTwo()",
   "outputs": [
    {
     "data": {
      "text/html": [
       "<h2 id=\"part2\">--- Part Two ---</h2>\n",
       "<p>The reindeer spends a few minutes reviewing your hiking trail map before realizing something, disappearing for a few minutes, and finally returning with yet another slightly-charred piece of paper.</p> \n",
       "<p>The paper describes a second way to measure a trailhead called its <em>rating</em>. A trailhead's rating is the <em>number of distinct hiking trails</em> which begin at that trailhead. For example:</p> \n",
       "<pre><code>.....0.\n",
       "..4321.\n",
       "..5..2.\n",
       "..6543.\n",
       "..7..4.\n",
       "..8765.\n",
       "..9....\n",
       "</code></pre> \n",
       "<p>The above map has a single trailhead; its rating is <code>3</code> because there are exactly three distinct hiking trails which begin at that position:</p> \n",
       "<pre><code>.....0.   .....0.   .....0.\n",
       "..4321.   .....1.   .....1.\n",
       "..5....   .....2.   .....2.\n",
       "..6....   ..6543.   .....3.\n",
       "..7....   ..7....   .....4.\n",
       "..8....   ..8....   ..8765.\n",
       "..9....   ..9....   ..9....\n",
       "</code></pre> \n",
       "<p>Here is a map containing a single trailhead with rating <code>13</code>:</p> \n",
       "<pre><code>..90..9\n",
       "...1.98\n",
       "...2..7\n",
       "6543456\n",
       "765.987\n",
       "876....\n",
       "987....\n",
       "</code></pre> \n",
       "<p>This map contains a single trailhead with rating <code>227</code> (because there are <code>121</code> distinct hiking trails that lead to the <code>9</code> on the right edge and <code>106</code> that lead to the <code>9</code> on the bottom edge):</p> \n",
       "<pre><code>012345\n",
       "123456\n",
       "234567\n",
       "345678\n",
       "4.6789\n",
       "56789.\n",
       "</code></pre> \n",
       "<p>Here's the larger example from before:</p> \n",
       "<pre><code>89010123\n",
       "78121874\n",
       "87430965\n",
       "96549874\n",
       "45678903\n",
       "32019012\n",
       "01329801\n",
       "10456732\n",
       "</code></pre> \n",
       "<p>Considering its trailheads in reading order, they have ratings of <code>20</code>, <code>24</code>, <code>10</code>, <code>4</code>, <code>1</code>, <code>4</code>, <code>5</code>, <code>8</code>, and <code>5</code>. The sum of all trailhead ratings in this larger example topographic map is <code><em>81</em></code>.</p> \n",
       "<p>You're not sure how, but the reindeer seems to have crafted some tiny flags out of toothpicks and bits of paper and is using them to mark trailheads on your topographic map. <em>What is the sum of the ratings of all trailheads?</em></p>"
      ]
     },
     "execution_count": 29,
     "metadata": {},
     "output_type": "execute_result"
    }
   ],
   "execution_count": 29
  },
  {
   "metadata": {
    "ExecuteTime": {
     "end_time": "2024-12-10T08:04:16.641725Z",
     "start_time": "2024-12-10T08:04:16.604448Z"
    }
   },
   "cell_type": "code",
   "source": [
    "\n",
    "Solver(parse(puzzle.input())).part2()\n"
   ],
   "outputs": [
    {
     "data": {
      "text/plain": [
       "1062"
      ]
     },
     "execution_count": 36,
     "metadata": {},
     "output_type": "execute_result"
    }
   ],
   "execution_count": 36
  },
  {
   "metadata": {
    "ExecuteTime": {
     "end_time": "2024-12-10T08:04:27.436656Z",
     "start_time": "2024-12-10T08:04:26.930847Z"
    }
   },
   "cell_type": "code",
   "source": "puzzle.submitPartTwo(1062)",
   "outputs": [
    {
     "data": {
      "text/html": [
       "        <div>\n",
       "            <p>Your answer: 1062.</p>\n",
       "            <p>That's the right answer! You are <span class=\"day-success\">one gold star</span> closer to finding the Chief Historian.</p>\n",
       "<p>You have completed Day 10! You can <span class=\"share\">[Share<span class=\"share-content\">on <a href=\"https://bsky.app/intent/compose?text=I+just+completed+%22Hoof+It%22+%2D+Day+10+%2D+Advent+of+Code+2024+%23AdventOfCode+https%3A%2F%2Fadventofcode%2Ecom%2F2024%2Fday%2F10\" target=\"_blank\">Bluesky</a> <a href=\"https://twitter.com/intent/tweet?text=I+just+completed+%22Hoof+It%22+%2D+Day+10+%2D+Advent+of+Code+2024&amp;url=https%3A%2F%2Fadventofcode%2Ecom%2F2024%2Fday%2F10&amp;related=ericwastl&amp;hashtags=AdventOfCode\" target=\"_blank\">Twitter</a> <a href=\"javascript:void(0);\" onclick=\"var ms; try{ms=localStorage.getItem('mastodon.server')}finally{} if(typeof ms!=='string')ms=''; ms=prompt('Mastodon Server?',ms); if(typeof ms==='string' &amp;&amp; ms.length){this.href='https://'+ms+'/share?text=I+just+completed+%22Hoof+It%22+%2D+Day+10+%2D+Advent+of+Code+2024+%23AdventOfCode+https%3A%2F%2Fadventofcode%2Ecom%2F2024%2Fday%2F10';try{localStorage.setItem('mastodon.server',ms);}finally{}}else{return false;}\" target=\"_blank\">Mastodon</a></span>]</span> this victory or <a href=\"/2024\">[Return to Your Advent Calendar]</a>.</p>\n",
       "        </div>"
      ]
     },
     "execution_count": 37,
     "metadata": {},
     "output_type": "execute_result"
    }
   ],
   "execution_count": 37
  }
 ],
 "metadata": {
  "kernelspec": {
   "display_name": "Kotlin",
   "language": "kotlin",
   "name": "kotlin"
  },
  "language_info": {
   "name": "kotlin",
   "version": "1.9.23",
   "mimetype": "text/x-kotlin",
   "file_extension": ".kt",
   "pygments_lexer": "kotlin",
   "codemirror_mode": "text/x-kotlin",
   "nbconvert_exporter": ""
  },
  "ktnbPluginMetadata": {
   "projectDependencies": [
    "MyAdventOfCode2024.jvmMain"
   ],
   "projectLibraries": false
  }
 },
 "nbformat": 4,
 "nbformat_minor": 0
}
