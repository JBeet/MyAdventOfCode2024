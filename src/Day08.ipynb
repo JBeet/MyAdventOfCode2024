{
 "cells": [
  {
   "cell_type": "code",
   "metadata": {
    "collapsed": true,
    "ExecuteTime": {
     "end_time": "2024-12-08T18:58:53.100022Z",
     "start_time": "2024-12-08T18:58:52.671381Z"
    }
   },
   "source": "%use adventOfCode",
   "outputs": [],
   "execution_count": 1
  },
  {
   "metadata": {
    "ExecuteTime": {
     "end_time": "2024-12-08T18:58:53.179912Z",
     "start_time": "2024-12-08T18:58:53.103924Z"
    }
   },
   "cell_type": "code",
   "source": "val puzzle = AocClient.fromEnv().interactiveDay(2024,8)",
   "outputs": [],
   "execution_count": 2
  },
  {
   "metadata": {
    "ExecuteTime": {
     "end_time": "2024-12-08T18:58:53.546523Z",
     "start_time": "2024-12-08T18:58:53.182615Z"
    }
   },
   "cell_type": "code",
   "source": [
    "import utils.CharGrid\n",
    "import utils.Position\n",
    "import utils.combinationsOfSize\n",
    "\n",
    "val testInput = \"\"\"............\n",
    "........0...\n",
    ".....0......\n",
    ".......0....\n",
    "....0.......\n",
    "......A.....\n",
    "............\n",
    "............\n",
    "........A...\n",
    ".........A..\n",
    "............\n",
    "............\"\"\"\n",
    "\n",
    "fun parse(input: String) = utils.CharGrid(input)\n",
    "fun frequencies(grid: CharGrid): Set<Char> = grid.nonEmptyCells.map { it.second }.toSet()\n",
    "fun part1(input: String): Int {\n",
    "    val grid = parse(input)\n",
    "    val frequencies = frequencies(grid)\n",
    "    val antinodes = mutableSetOf<Position>()\n",
    "    frequencies.forEach { frequency ->\n",
    "        val antennaPositions = grid.findAll(frequency).toList()\n",
    "        antennaPositions.combinationsOfSize(2).flatMapTo(antinodes) { (a, b) -> setOf(a + a - b, b + b - a) }\n",
    "    }\n",
    "    return antinodes.filter { it in grid }.size\n",
    "}\n",
    "\n",
    "part1(puzzle.input())"
   ],
   "outputs": [
    {
     "data": {
      "text/plain": [
       "398"
      ]
     },
     "execution_count": 3,
     "metadata": {},
     "output_type": "execute_result"
    }
   ],
   "execution_count": 3
  },
  {
   "metadata": {
    "ExecuteTime": {
     "end_time": "2024-12-08T18:58:53.730946Z",
     "start_time": "2024-12-08T18:58:53.550405Z"
    }
   },
   "cell_type": "code",
   "source": [
    "fun part2(input: String): Int {\n",
    "    val grid = parse(input)\n",
    "    val frequencies = frequencies(grid)\n",
    "    val antinodes = mutableSetOf<Position>()\n",
    "    frequencies.forEach { frequency ->\n",
    "        val antennaPositions = grid.findAll(frequency).toList()\n",
    "        antennaPositions.combinationsOfSize(2).flatMapTo(antinodes) { (a, b) ->\n",
    "            sequence {\n",
    "                val delta = (a - b)\n",
    "                var antinodePos = a\n",
    "                while (antinodePos in grid) antinodePos -= delta\n",
    "                do {\n",
    "                    antinodePos += delta\n",
    "                    yield(antinodePos)\n",
    "                } while (antinodePos in grid)\n",
    "            }\n",
    "        }\n",
    "    }\n",
    "    return antinodes.filter { it in grid }.size\n",
    "}\n",
    "part2(puzzle.input())"
   ],
   "outputs": [
    {
     "data": {
      "text/plain": [
       "1333"
      ]
     },
     "execution_count": 4,
     "metadata": {},
     "output_type": "execute_result"
    }
   ],
   "execution_count": 4
  }
 ],
 "metadata": {
  "kernelspec": {
   "display_name": "Kotlin",
   "language": "kotlin",
   "name": "kotlin"
  },
  "language_info": {
   "name": "kotlin",
   "version": "1.9.23",
   "mimetype": "text/x-kotlin",
   "file_extension": ".kt",
   "pygments_lexer": "kotlin",
   "codemirror_mode": "text/x-kotlin",
   "nbconvert_exporter": ""
  },
  "ktnbPluginMetadata": {
   "projectDependencies": [
    "MyAdventOfCode2024.jvmMain"
   ],
   "projectLibraries": false
  }
 },
 "nbformat": 4,
 "nbformat_minor": 0
}
