{
 "cells": [
  {
   "cell_type": "code",
   "metadata": {
    "collapsed": true,
    "ExecuteTime": {
     "end_time": "2024-12-08T10:37:56.041672Z",
     "start_time": "2024-12-08T10:37:55.297288Z"
    }
   },
   "source": "%use adventOfCode",
   "outputs": [],
   "execution_count": 6
  },
  {
   "metadata": {
    "ExecuteTime": {
     "end_time": "2024-12-08T10:37:56.003236Z",
     "start_time": "2024-12-08T10:37:55.507610Z"
    }
   },
   "cell_type": "code",
   "source": [
    "val puzzle = AocClient.fromEnv().interactiveDay(2024,8)\n",
    "puzzle.waitUntilUnlocked()\n",
    "puzzle.viewPartOne()"
   ],
   "outputs": [
    {
     "name": "stdout",
     "output_type": "stream",
     "text": [
      "Server ETA is not available, falling back to local ETA\n",
      "Day is already unlocked!\n"
     ]
    },
    {
     "data": {
      "text/html": [
       "<h2>--- Day 8: Resonant Collinearity ---</h2>\n",
       "<p>You find yourselves on the <a href=\"/2016/day/25\">roof</a> of a top-secret Easter Bunny installation.</p> \n",
       "<p>While The Historians do their thing, you take a look at the familiar <em>huge antenna</em>. Much to your surprise, it seems to have been reconfigured to emit a signal that makes people 0.1% more likely to buy Easter Bunny brand <span title=\"They could have imitated delicious chocolate, but the mediocre chocolate is WAY easier to imitate.\">Imitation Mediocre</span> Chocolate as a Christmas gift! Unthinkable!</p> \n",
       "<p>Scanning across the city, you find that there are actually many such antennas. Each antenna is tuned to a specific <em>frequency</em> indicated by a single lowercase letter, uppercase letter, or digit. You create a map (your puzzle input) of these antennas. For example:</p> \n",
       "<pre><code>............\n",
       "........0...\n",
       ".....0......\n",
       ".......0....\n",
       "....0.......\n",
       "......A.....\n",
       "............\n",
       "............\n",
       "........A...\n",
       ".........A..\n",
       "............\n",
       "............\n",
       "</code></pre> \n",
       "<p>The signal only applies its nefarious effect at specific <em>antinodes</em> based on the resonant frequencies of the antennas. In particular, an antinode occurs at any point that is perfectly in line with two antennas of the same frequency - but only when one of the antennas is twice as far away as the other. This means that for any pair of antennas with the same frequency, there are two antinodes, one on either side of them.</p> \n",
       "<p>So, for these two antennas with frequency <code>a</code>, they create the two antinodes marked with <code>#</code>:</p> \n",
       "<pre><code>..........\n",
       "...#......\n",
       "..........\n",
       "....a.....\n",
       "..........\n",
       ".....a....\n",
       "..........\n",
       "......#...\n",
       "..........\n",
       "..........\n",
       "</code></pre> \n",
       "<p>Adding a third antenna with the same frequency creates several more antinodes. It would ideally add four antinodes, but two are off the right side of the map, so instead it adds only two:</p> \n",
       "<pre><code>..........\n",
       "...#......\n",
       "#.........\n",
       "....a.....\n",
       "........a.\n",
       ".....a....\n",
       "..#.......\n",
       "......#...\n",
       "..........\n",
       "..........\n",
       "</code></pre> \n",
       "<p>Antennas with different frequencies don't create antinodes; <code>A</code> and <code>a</code> count as different frequencies. However, antinodes <em>can</em> occur at locations that contain antennas. In this diagram, the lone antenna with frequency capital <code>A</code> creates no antinodes but has a lowercase-<code>a</code>-frequency antinode at its location:</p> \n",
       "<pre><code>..........\n",
       "...#......\n",
       "#.........\n",
       "....a.....\n",
       "........a.\n",
       ".....a....\n",
       "..#.......\n",
       "......A...\n",
       "..........\n",
       "..........\n",
       "</code></pre> \n",
       "<p>The first example has antennas with two different frequencies, so the antinodes they create look like this, plus an antinode overlapping the topmost <code>A</code>-frequency antenna:</p> \n",
       "<pre><code>......#....#\n",
       "...#....0...\n",
       "....#0....#.\n",
       "..#....0....\n",
       "....0....#..\n",
       ".#....A.....\n",
       "...#........\n",
       "#......#....\n",
       "........A...\n",
       ".........A..\n",
       "..........#.\n",
       "..........#.\n",
       "</code></pre> \n",
       "<p>Because the topmost <code>A</code>-frequency antenna overlaps with a <code>0</code>-frequency antinode, there are <code><em>14</em></code> total unique locations that contain an antinode within the bounds of the map.</p> \n",
       "<p>Calculate the impact of the signal. <em>How many unique locations within the bounds of the map contain an antinode?</em></p>"
      ]
     },
     "execution_count": 7,
     "metadata": {},
     "output_type": "execute_result"
    }
   ],
   "execution_count": 7
  },
  {
   "metadata": {
    "ExecuteTime": {
     "end_time": "2024-12-08T10:46:17.882066Z",
     "start_time": "2024-12-08T10:46:17.765932Z"
    }
   },
   "cell_type": "code",
   "source": [
    "import utils.Position\n",
    "import utils.combinationsOfSize\n",
    "\n",
    "val testInput = \"\"\"............\n",
    "........0...\n",
    ".....0......\n",
    ".......0....\n",
    "....0.......\n",
    "......A.....\n",
    "............\n",
    "............\n",
    "........A...\n",
    ".........A..\n",
    "............\n",
    "............\"\"\"\n",
    "\n",
    "fun parse(input: String) = utils.FilledCharGrid(input.lines())\n",
    "fun frequencies(grid: FilledCharGrid): Set<Char> = grid.nonEmptyCells.map { it.second }.toSet()\n",
    "fun part1(input: String): Int {\n",
    "    val grid = parse(input)\n",
    "    val frequencies = frequencies(grid)\n",
    "    val antinodes = mutableSetOf<Position>()\n",
    "    frequencies.forEach { frequency ->\n",
    "        val antennaPositions = grid.findAll(frequency).toList()\n",
    "        antennaPositions.combinationsOfSize(2).flatMapTo(antinodes) { (a, b) -> setOf(a + a - b, b + b - a) }\n",
    "    }\n",
    "    return antinodes.filter { it in grid }.size\n",
    "}\n",
    "\n",
    "part1(puzzle.input())"
   ],
   "outputs": [
    {
     "data": {
      "text/plain": [
       "398"
      ]
     },
     "execution_count": 22,
     "metadata": {},
     "output_type": "execute_result"
    }
   ],
   "execution_count": 22
  },
  {
   "metadata": {
    "ExecuteTime": {
     "end_time": "2024-12-08T10:46:29.912012Z",
     "start_time": "2024-12-08T10:46:29.476190Z"
    }
   },
   "cell_type": "code",
   "source": "puzzle.submitPartOne(398)",
   "outputs": [
    {
     "data": {
      "text/html": [
       "<div>\n",
       "    <p>Your answer: 398.</p>\n",
       "    <p>That's the right answer! You are <span class=\"day-success\">one gold star</span> closer to finding the Chief Historian. <a href=\"/2024/day/8#part2\">[Continue to Part Two]</a></p>\n",
       "</div>"
      ]
     },
     "execution_count": 23,
     "metadata": {},
     "output_type": "execute_result"
    }
   ],
   "execution_count": 23
  },
  {
   "metadata": {
    "ExecuteTime": {
     "end_time": "2024-12-08T10:46:43.898832Z",
     "start_time": "2024-12-08T10:46:43.418456Z"
    }
   },
   "cell_type": "code",
   "source": "puzzle.viewPartTwo()",
   "outputs": [
    {
     "data": {
      "text/html": [
       "<h2 id=\"part2\">--- Part Two ---</h2>\n",
       "<p>Watching over your shoulder as you work, one of The Historians asks if you took the effects of resonant harmonics into your calculations.</p> \n",
       "<p>Whoops!</p> \n",
       "<p>After updating your model, it turns out that an antinode occurs at <em>any grid position</em> exactly in line with at least two antennas of the same frequency, regardless of distance. This means that some of the new antinodes will occur at the position of each antenna (unless that antenna is the only one of its frequency).</p> \n",
       "<p>So, these three <code>T</code>-frequency antennas now create many antinodes:</p> \n",
       "<pre><code>T....#....\n",
       "...T......\n",
       ".T....#...\n",
       ".........#\n",
       "..#.......\n",
       "..........\n",
       "...#......\n",
       "..........\n",
       "....#.....\n",
       "..........\n",
       "</code></pre> \n",
       "<p>In fact, the three <code>T</code>-frequency antennas are all exactly in line with two antennas, so they are all also antinodes! This brings the total number of antinodes in the above example to <code><em>9</em></code>.</p> \n",
       "<p>The original example now has <code><em>34</em></code> antinodes, including the antinodes that appear on every antenna:</p> \n",
       "<pre><code>##....#....#\n",
       ".#.#....0...\n",
       "..#.#0....#.\n",
       "..##...0....\n",
       "....0....#..\n",
       ".#...#A....#\n",
       "...#..#.....\n",
       "#....#.#....\n",
       "..#.....A...\n",
       "....#....A..\n",
       ".#........#.\n",
       "...#......##\n",
       "</code></pre> \n",
       "<p>Calculate the impact of the signal using this updated model. <em>How many unique locations within the bounds of the map contain an antinode?</em></p>"
      ]
     },
     "execution_count": 24,
     "metadata": {},
     "output_type": "execute_result"
    }
   ],
   "execution_count": 24
  },
  {
   "metadata": {
    "ExecuteTime": {
     "end_time": "2024-12-08T10:52:30.555317Z",
     "start_time": "2024-12-08T10:52:30.432778Z"
    }
   },
   "cell_type": "code",
   "source": [
    "fun part2(input: String): Int {\n",
    "    val grid = parse(input)\n",
    "    val frequencies = frequencies(grid)\n",
    "    val antinodes = mutableSetOf<Position>()\n",
    "    frequencies.forEach { frequency ->\n",
    "        val antennaPositions = grid.findAll(frequency).toList()\n",
    "        antennaPositions.combinationsOfSize(2).flatMapTo(antinodes) { (a, b) ->\n",
    "            sequence {\n",
    "                val delta = (a - b)\n",
    "                var antinodePos = a\n",
    "                while (antinodePos in grid) antinodePos -= delta\n",
    "                do {\n",
    "                    antinodePos += delta\n",
    "                    yield(antinodePos)\n",
    "                } while (antinodePos in grid)\n",
    "            }\n",
    "        }\n",
    "    }\n",
    "    return antinodes.filter { it in grid }.size\n",
    "}\n",
    "part2(puzzle.input())"
   ],
   "outputs": [
    {
     "data": {
      "text/plain": [
       "1333"
      ]
     },
     "execution_count": 26,
     "metadata": {},
     "output_type": "execute_result"
    }
   ],
   "execution_count": 26
  },
  {
   "metadata": {
    "ExecuteTime": {
     "end_time": "2024-12-08T10:52:43.272839Z",
     "start_time": "2024-12-08T10:52:42.764161Z"
    }
   },
   "cell_type": "code",
   "source": "puzzle.submitPartTwo(1333)",
   "outputs": [
    {
     "data": {
      "text/html": [
       "        <div>\n",
       "            <p>Your answer: 1333.</p>\n",
       "            <p>That's the right answer! You are <span class=\"day-success\">one gold star</span> closer to finding the Chief Historian.</p>\n",
       "<p>You have completed Day 8! You can <span class=\"share\">[Share<span class=\"share-content\">on <a href=\"https://bsky.app/intent/compose?text=I+just+completed+%22Resonant+Collinearity%22+%2D+Day+8+%2D+Advent+of+Code+2024+%23AdventOfCode+https%3A%2F%2Fadventofcode%2Ecom%2F2024%2Fday%2F8\" target=\"_blank\">Bluesky</a> <a href=\"https://twitter.com/intent/tweet?text=I+just+completed+%22Resonant+Collinearity%22+%2D+Day+8+%2D+Advent+of+Code+2024&amp;url=https%3A%2F%2Fadventofcode%2Ecom%2F2024%2Fday%2F8&amp;related=ericwastl&amp;hashtags=AdventOfCode\" target=\"_blank\">Twitter</a> <a href=\"javascript:void(0);\" onclick=\"var ms; try{ms=localStorage.getItem('mastodon.server')}finally{} if(typeof ms!=='string')ms=''; ms=prompt('Mastodon Server?',ms); if(typeof ms==='string' &amp;&amp; ms.length){this.href='https://'+ms+'/share?text=I+just+completed+%22Resonant+Collinearity%22+%2D+Day+8+%2D+Advent+of+Code+2024+%23AdventOfCode+https%3A%2F%2Fadventofcode%2Ecom%2F2024%2Fday%2F8';try{localStorage.setItem('mastodon.server',ms);}finally{}}else{return false;}\" target=\"_blank\">Mastodon</a></span>]</span> this victory or <a href=\"/2024\">[Return to Your Advent Calendar]</a>.</p>\n",
       "        </div>"
      ]
     },
     "execution_count": 27,
     "metadata": {},
     "output_type": "execute_result"
    }
   ],
   "execution_count": 27
  }
 ],
 "metadata": {
  "kernelspec": {
   "display_name": "Kotlin",
   "language": "kotlin",
   "name": "kotlin"
  },
  "language_info": {
   "name": "kotlin",
   "version": "1.9.23",
   "mimetype": "text/x-kotlin",
   "file_extension": ".kt",
   "pygments_lexer": "kotlin",
   "codemirror_mode": "text/x-kotlin",
   "nbconvert_exporter": ""
  },
  "ktnbPluginMetadata": {
   "projectDependencies": [
    "MyAdventOfCode2024.jvmMain"
   ],
   "projectLibraries": false
  }
 },
 "nbformat": 4,
 "nbformat_minor": 0
}
