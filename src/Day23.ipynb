{
 "cells": [
  {
   "cell_type": "code",
   "metadata": {
    "collapsed": true,
    "ExecuteTime": {
     "end_time": "2024-12-23T10:19:49.965086Z",
     "start_time": "2024-12-23T10:19:49.558965Z"
    }
   },
   "source": "%use adventOfCode",
   "outputs": [],
   "execution_count": 1
  },
  {
   "metadata": {
    "ExecuteTime": {
     "end_time": "2024-12-23T10:19:50.047873Z",
     "start_time": "2024-12-23T10:19:49.974475Z"
    }
   },
   "cell_type": "code",
   "source": "val puzzle = AocClient.fromEnv().interactiveDay(2024, 23)\n",
   "outputs": [],
   "execution_count": 2
  },
  {
   "metadata": {
    "ExecuteTime": {
     "end_time": "2024-12-23T10:19:50.351851Z",
     "start_time": "2024-12-23T10:19:50.052612Z"
    }
   },
   "cell_type": "code",
   "source": [
    "val testInput = \"\"\"kh-tc\n",
    "qp-kh\n",
    "de-cg\n",
    "ka-co\n",
    "yn-aq\n",
    "qp-ub\n",
    "cg-tb\n",
    "vc-aq\n",
    "tb-ka\n",
    "wh-tc\n",
    "yn-cg\n",
    "kh-ub\n",
    "ta-co\n",
    "de-co\n",
    "tc-td\n",
    "tb-wq\n",
    "wh-td\n",
    "ta-ka\n",
    "td-qp\n",
    "aq-cg\n",
    "wq-ub\n",
    "ub-vc\n",
    "de-ta\n",
    "wq-aq\n",
    "wq-vc\n",
    "wh-yn\n",
    "ka-de\n",
    "kh-ta\n",
    "co-tc\n",
    "wh-qp\n",
    "tb-vc\n",
    "td-yn\"\"\"\n",
    "\n",
    "fun parse(input: String) = input.lines().map { it.split('-') }.flatMap { (a, b) -> listOf(a to b, b to a) }\n",
    "    .groupBy({ it.first }, { it.second })\n",
    "parse(testInput)"
   ],
   "outputs": [
    {
     "data": {
      "text/plain": [
       "{kh=[tc, qp, ub, ta], tc=[kh, wh, td, co], qp=[kh, ub, td, wh], de=[cg, co, ta, ka], cg=[de, tb, yn, aq], ka=[co, tb, ta, de], co=[ka, ta, de, tc], yn=[aq, cg, wh, td], aq=[yn, vc, cg, wq], ub=[qp, kh, wq, vc], tb=[cg, ka, wq, vc], vc=[aq, ub, wq, tb], wh=[tc, td, yn, qp], ta=[co, ka, de, kh], td=[tc, wh, qp, yn], wq=[tb, ub, aq, vc]}"
      ]
     },
     "execution_count": 3,
     "metadata": {},
     "output_type": "execute_result"
    }
   ],
   "execution_count": 3
  },
  {
   "metadata": {
    "ExecuteTime": {
     "end_time": "2024-12-23T10:19:50.603824Z",
     "start_time": "2024-12-23T10:19:50.356787Z"
    }
   },
   "cell_type": "code",
   "source": [
    "fun findTriplets(parsed: Map<String, List<String>>): List<List<String>> {\n",
    "    fun connections(node: String) = parsed.getOrDefault(node, emptyList())\n",
    "    return parsed.flatMap { (node1, connections) ->\n",
    "        connections.filter { node2 -> node1 < node2 }.flatMap { node2 ->\n",
    "            connections(node2).filter { node3 -> node2 < node3 }.filter { node3 -> node1 in connections(node3) }\n",
    "                .map { node3 -> listOf(node1, node2, node3) }\n",
    "        }\n",
    "    }\n",
    "}\n",
    "\n",
    "fun part1(input: String): Int {\n",
    "    val parsed = parse(input)\n",
    "    val triplets = findTriplets(parsed)\n",
    "    return triplets.count { triplet -> triplet.any { it[0] == 't' } }\n",
    "}\n",
    "\n",
    "part1(testInput)"
   ],
   "outputs": [
    {
     "data": {
      "text/plain": [
       "7"
      ]
     },
     "execution_count": 4,
     "metadata": {},
     "output_type": "execute_result"
    }
   ],
   "execution_count": 4
  },
  {
   "metadata": {
    "ExecuteTime": {
     "end_time": "2024-12-23T10:19:50.717891Z",
     "start_time": "2024-12-23T10:19:50.672006Z"
    }
   },
   "cell_type": "code",
   "source": "part1(puzzle.input())",
   "outputs": [
    {
     "data": {
      "text/plain": [
       "893"
      ]
     },
     "execution_count": 5,
     "metadata": {},
     "output_type": "execute_result"
    }
   ],
   "execution_count": 5
  },
  {
   "metadata": {
    "ExecuteTime": {
     "end_time": "2024-12-23T10:19:50.983461Z",
     "start_time": "2024-12-23T10:19:50.776007Z"
    }
   },
   "cell_type": "code",
   "source": [
    "class GroupFinder(val graph: Map<String, List<String>>) {\n",
    "    fun connections(node: String) = graph.getOrDefault(node, emptyList())\n",
    "\n",
    "    fun findGroups(size: Int): List<List<String>> =\n",
    "        graph.flatMap { (node, _) -> expandGroup(node, listOf(node), size - 1) }\n",
    "\n",
    "    fun expandGroup(prevNode: String, selected: List<String>, remainingSize: Int): List<List<String>> =\n",
    "        if (remainingSize == 0)\n",
    "            listOf(selected)\n",
    "        else\n",
    "            connections(prevNode).filter { newNode -> prevNode < newNode }\n",
    "                .filter { newNode -> connections(newNode).containsAll(selected) }\n",
    "                .flatMap { newNode -> expandGroup(newNode, selected + newNode, remainingSize - 1) }\n",
    "}\n",
    "\n",
    "fun part2(input: String): List<String> {\n",
    "    val parsed = parse(input)\n",
    "    val finder = GroupFinder(parsed)\n",
    "    return (3..parsed.size).asSequence().map {\n",
    "        finder.findGroups(it)\n",
    "    }.first { it.size == 1 }.single()\n",
    "}\n"
   ],
   "outputs": [],
   "execution_count": 6
  },
  {
   "metadata": {
    "ExecuteTime": {
     "end_time": "2024-12-23T10:19:51.013730Z",
     "start_time": "2024-12-23T10:19:50.989186Z"
    }
   },
   "cell_type": "code",
   "source": "part2(testInput)",
   "outputs": [
    {
     "data": {
      "text/plain": [
       "[co, de, ka, ta]"
      ]
     },
     "execution_count": 7,
     "metadata": {},
     "output_type": "execute_result"
    }
   ],
   "execution_count": 7
  },
  {
   "metadata": {
    "ExecuteTime": {
     "end_time": "2024-12-23T10:19:51.800530Z",
     "start_time": "2024-12-23T10:19:51.071757Z"
    }
   },
   "cell_type": "code",
   "source": "part2(puzzle.input()).joinToString(\",\")",
   "outputs": [
    {
     "data": {
      "text/plain": [
       "cw,dy,ef,iw,ji,jv,ka,ob,qv,ry,ua,wt,xz"
      ]
     },
     "execution_count": 8,
     "metadata": {},
     "output_type": "execute_result"
    }
   ],
   "execution_count": 8
  },
  {
   "metadata": {
    "ExecuteTime": {
     "end_time": "2024-12-23T10:19:51.804272Z",
     "start_time": "2024-12-23T10:19:51.802975Z"
    }
   },
   "cell_type": "code",
   "source": "",
   "outputs": [],
   "execution_count": null
  }
 ],
 "metadata": {
  "kernelspec": {
   "display_name": "Kotlin",
   "language": "kotlin",
   "name": "kotlin"
  },
  "language_info": {
   "name": "kotlin",
   "version": "1.9.23",
   "mimetype": "text/x-kotlin",
   "file_extension": ".kt",
   "pygments_lexer": "kotlin",
   "codemirror_mode": "text/x-kotlin",
   "nbconvert_exporter": ""
  }
 },
 "nbformat": 4,
 "nbformat_minor": 0
}
