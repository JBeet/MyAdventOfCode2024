{
 "cells": [
  {
   "cell_type": "code",
   "metadata": {
    "collapsed": true,
    "ExecuteTime": {
     "end_time": "2024-12-14T11:58:41.727094Z",
     "start_time": "2024-12-14T11:58:41.286781Z"
    }
   },
   "source": "%use adventOfCode",
   "outputs": [],
   "execution_count": 1
  },
  {
   "metadata": {
    "ExecuteTime": {
     "end_time": "2024-12-14T11:58:41.823416Z",
     "start_time": "2024-12-14T11:58:41.733481Z"
    }
   },
   "cell_type": "code",
   "source": [
    "val puzzle = AocClient.fromEnv().interactiveDay(2024, 14)\n",
    "puzzle.viewPartOne()"
   ],
   "outputs": [
    {
     "data": {
      "text/html": [
       "<h2>--- Day 14: Restroom Redoubt ---</h2>\n",
       "<p>One of The Historians needs to use the bathroom; fortunately, you know there's a bathroom near an unvisited location on their list, and so you're all quickly teleported directly to the lobby of Easter Bunny Headquarters.</p> \n",
       "<p>Unfortunately, EBHQ seems to have \"improved\" bathroom security <em>again</em> after your last <a href=\"/2016/day/2\">visit</a>. The area outside the bathroom is swarming with robots!</p> \n",
       "<p>To get The Historian safely to the bathroom, you'll need a way to predict where the robots will be in the future. Fortunately, they all seem to be moving on the tile floor in predictable <em>straight lines</em>.</p> \n",
       "<p>You make a list (your puzzle input) of all of the robots' current <em>positions</em> (<code>p</code>) and <em>velocities</em> (<code>v</code>), one robot per line. For example:</p> \n",
       "<pre><code>p=0,4 v=3,-3\n",
       "p=6,3 v=-1,-3\n",
       "p=10,3 v=-1,2\n",
       "p=2,0 v=2,-1\n",
       "p=0,0 v=1,3\n",
       "p=3,0 v=-2,-2\n",
       "p=7,6 v=-1,-3\n",
       "p=3,0 v=-1,-2\n",
       "p=9,3 v=2,3\n",
       "p=7,3 v=-1,2\n",
       "p=2,4 v=2,-3\n",
       "p=9,5 v=-3,-3\n",
       "</code></pre> \n",
       "<p>Each robot's position is given as <code>p=x,y</code> where <code>x</code> represents the number of tiles the robot is from the left wall and <code>y</code> represents the number of tiles from the top wall (when viewed from above). So, a position of <code>p=0,0</code> means the robot is all the way in the top-left corner.</p> \n",
       "<p>Each robot's velocity is given as <code>v=x,y</code> where <code>x</code> and <code>y</code> are given in <em>tiles per second</em>. Positive <code>x</code> means the robot is moving to the <em>right</em>, and positive <code>y</code> means the robot is moving <em>down</em>. So, a velocity of <code>v=1,-2</code> means that each second, the robot moves <code>1</code> tile to the right and <code>2</code> tiles up.</p> \n",
       "<p>The robots outside the actual bathroom are in a space which is <code>101</code> tiles wide and <code>103</code> tiles tall (when viewed from above). However, in this example, the robots are in a space which is only <code>11</code> tiles wide and <code>7</code> tiles tall.</p> \n",
       "<p>The robots are good at navigating over/under each other (due to a combination of springs, extendable legs, and quadcopters), so they can share the same tile and don't interact with each other. Visually, the number of robots on each tile in this example looks like this:</p> \n",
       "<pre><code>1.12.......\n",
       "...........\n",
       "...........\n",
       "......11.11\n",
       "1.1........\n",
       ".........1.\n",
       ".......1...\n",
       "</code></pre> \n",
       "<p>These robots have a unique feature for maximum bathroom security: they can <em>teleport</em>. When a robot would run into an edge of the space they're in, they instead <em>teleport to the other side</em>, effectively wrapping around the edges. Here is what robot <code>p=2,4 v=2,-3</code> does for the first few seconds:</p> \n",
       "<pre><code>Initial state:\n",
       "...........\n",
       "...........\n",
       "...........\n",
       "...........\n",
       "..1........\n",
       "...........\n",
       "...........\n",
       "\n",
       "After 1 second:\n",
       "...........\n",
       "....1......\n",
       "...........\n",
       "...........\n",
       "...........\n",
       "...........\n",
       "...........\n",
       "\n",
       "After 2 seconds:\n",
       "...........\n",
       "...........\n",
       "...........\n",
       "...........\n",
       "...........\n",
       "......1....\n",
       "...........\n",
       "\n",
       "After 3 seconds:\n",
       "...........\n",
       "...........\n",
       "........1..\n",
       "...........\n",
       "...........\n",
       "...........\n",
       "...........\n",
       "\n",
       "After 4 seconds:\n",
       "...........\n",
       "...........\n",
       "...........\n",
       "...........\n",
       "...........\n",
       "...........\n",
       "..........1\n",
       "\n",
       "After 5 seconds:\n",
       "...........\n",
       "...........\n",
       "...........\n",
       ".1.........\n",
       "...........\n",
       "...........\n",
       "...........\n",
       "</code></pre> \n",
       "<p>The Historian can't wait much longer, so you don't have to simulate the robots for very long. Where will the robots be after <code>100</code> seconds?</p> \n",
       "<p>In the above example, the number of robots on each tile after 100 seconds has elapsed looks like this:</p> \n",
       "<pre><code>......2..1.\n",
       "...........\n",
       "1..........\n",
       ".11........\n",
       ".....1.....\n",
       "...12......\n",
       ".1....1....\n",
       "</code></pre> \n",
       "<p>To determine the safest area, count the <em>number of robots in each quadrant</em> after 100 seconds. Robots that are exactly in the middle (horizontally or vertically) don't count as being in any quadrant, so the only relevant robots are:</p> \n",
       "<pre><code>..... 2..1.\n",
       "..... .....\n",
       "1.... .....\n",
       "           \n",
       "..... .....\n",
       "...12 .....\n",
       ".1... 1....\n",
       "</code></pre> \n",
       "<p>In this example, the quadrants contain <code>1</code>, <code>3</code>, <code>4</code>, and <code>1</code> robot. Multiplying these together gives a total <em>safety factor</em> of <code><em>12</em></code>.</p> \n",
       "<p>Predict the motion of the robots in your list within a space which is <code>101</code> tiles wide and <code>103</code> tiles tall. <em>What will the safety factor be after exactly 100 seconds have elapsed?</em></p>"
      ]
     },
     "execution_count": 2,
     "metadata": {},
     "output_type": "execute_result"
    }
   ],
   "execution_count": 2
  },
  {
   "metadata": {
    "ExecuteTime": {
     "end_time": "2024-12-14T11:58:42.141575Z",
     "start_time": "2024-12-14T11:58:41.828796Z"
    }
   },
   "cell_type": "code",
   "source": [
    "import utils.*\n",
    "\n",
    "val testInput = \"\"\"p=0,4 v=3,-3\n",
    "p=6,3 v=-1,-3\n",
    "p=10,3 v=-1,2\n",
    "p=2,0 v=2,-1\n",
    "p=0,0 v=1,3\n",
    "p=3,0 v=-2,-2\n",
    "p=7,6 v=-1,-3\n",
    "p=3,0 v=-1,-2\n",
    "p=9,3 v=2,3\n",
    "p=7,3 v=-1,2\n",
    "p=2,4 v=2,-3\n",
    "p=9,5 v=-3,-3\n",
    "\"\"\"\n",
    "\n",
    "data class Robot(val v: Velocity)\n",
    "\n",
    "fun parse(input: String) = input.nonEmptyLines().map {\n",
    "    val (px, py, vx, vy) = it.signedInts()\n",
    "    Position(py, px) to Robot(Velocity(vy, vx))\n",
    "}\n",
    "\n",
    "parse(testInput)"
   ],
   "outputs": [
    {
     "data": {
      "text/plain": [
       "[((4,0), Robot(v=Velocity(rowSpeed=-3, colSpeed=3))), ((3,6), Robot(v=Velocity(rowSpeed=-3, colSpeed=-1))), ((3,10), Robot(v=Velocity(rowSpeed=2, colSpeed=-1))), ((0,2), Robot(v=Velocity(rowSpeed=-1, colSpeed=2))), ((0,0), Robot(v=Velocity(rowSpeed=3, colSpeed=1))), ((0,3), Robot(v=Velocity(rowSpeed=-2, colSpeed=-2))), ((6,7), Robot(v=Velocity(rowSpeed=-3, colSpeed=-1))), ((0,3), Robot(v=Velocity(rowSpeed=-2, colSpeed=-1))), ((3,9), Robot(v=Velocity(rowSpeed=3, colSpeed=2))), ((3,7), Robot(v=Velocity(rowSpeed=2, colSpeed=-1))), ((4,2), Robot(v=Velocity(rowSpeed=-3, colSpeed=2))), ((5,9), Robot(v=Velocity(rowSpeed=-3, colSpeed=-3)))]"
      ]
     },
     "execution_count": 3,
     "metadata": {},
     "output_type": "execute_result"
    }
   ],
   "execution_count": 3
  },
  {
   "metadata": {
    "ExecuteTime": {
     "end_time": "2024-12-14T11:58:42.637390Z",
     "start_time": "2024-12-14T11:58:42.145927Z"
    }
   },
   "cell_type": "code",
   "source": [
    "typealias RobotSet = Set<Robot>\n",
    "\n",
    "fun Robot.move(pos: Position) = pos + this.v\n",
    "class RobotGrid(robots: List<Pair<Position, Robot>>, val height: Int, val width: Int) : OpenGrid<RobotSet>(\n",
    "    robots.groupBy({ it.first }, { it.second }).mapValues { (_, b) -> b.toSet() },\n",
    "    emptySet(),\n",
    "    height, width\n",
    ") {\n",
    "    fun iterateOnce(): RobotGrid {\n",
    "        val newPositions = cells.flatMap { (pos, robots) ->\n",
    "            robots.map { it.move(pos) to it }\n",
    "        }.map { (pos, robot) -> wrap(pos) to robot }\n",
    "        return RobotGrid(newPositions, height, width)\n",
    "    }\n",
    "\n",
    "    fun wrap(pos: Position): Position =\n",
    "        if (pos in bounds) pos else Position(wrapRow(pos.row), wrapColumn(pos.column))\n",
    "\n",
    "    fun wrapRow(r: Int): Int =\n",
    "        if (r < 0) r + height else if (r >= height) r - height else r\n",
    "\n",
    "    fun wrapColumn(c: Int): Int =\n",
    "        if (c < 0) c + width else if (c >= width) c - width else c\n",
    "\n",
    "    fun iterate(count: Int): RobotGrid =\n",
    "        if (count <= 0) this else iterateOnce().iterate(count - 1)\n",
    "    fun part1(): Long {\n",
    "        return iterate(100).score()\n",
    "    }\n",
    "\n",
    "    private fun score(): Long {\n",
    "        val hh = height / 2\n",
    "        val hw = width / 2\n",
    "        val q1 = countRobots(0, hh, 0, hw)\n",
    "        val q2 = countRobots(hh + 1, height, 0, hw)\n",
    "        val q3 = countRobots(0, hh, hw + 1, width)\n",
    "        val q4 = countRobots(hh + 1, height, hw + 1, width)\n",
    "        return q1.toLong() * q2 * q3 * q4\n",
    "    }\n",
    "\n",
    "    fun countRobots(rowFrom: Int, rowToExcl: Int, colFrom: Int, colToExcl: Int): Int {\n",
    "        return cells.filter { (it, _) ->\n",
    "            it.row in (rowFrom..<rowToExcl) && it.column in (colFrom..<colToExcl)\n",
    "        }.values.sumOf { it.size }\n",
    "    }\n",
    "}\n",
    "\n",
    "val testGrid = RobotGrid(parse(testInput), 7, 11)\n",
    "testGrid.part1()"
   ],
   "outputs": [
    {
     "data": {
      "text/plain": [
       "12"
      ]
     },
     "execution_count": 4,
     "metadata": {},
     "output_type": "execute_result"
    }
   ],
   "execution_count": 4
  },
  {
   "metadata": {
    "ExecuteTime": {
     "end_time": "2024-12-14T11:58:42.694842Z",
     "start_time": "2024-12-14T11:58:42.641741Z"
    }
   },
   "cell_type": "code",
   "source": "RobotGrid(parse(puzzle.input()), 103, 101).part1()",
   "outputs": [
    {
     "data": {
      "text/plain": [
       "210587128"
      ]
     },
     "execution_count": 5,
     "metadata": {},
     "output_type": "execute_result"
    }
   ],
   "execution_count": 5
  },
  {
   "metadata": {
    "ExecuteTime": {
     "end_time": "2024-12-14T11:59:35.243053Z",
     "start_time": "2024-12-14T11:59:32.411477Z"
    }
   },
   "cell_type": "code",
   "source": [
    "import kotlinx.coroutines.delay\n",
    "import kotlinx.coroutines.runBlocking\n",
    "import java.awt.Color\n",
    "import java.awt.Rectangle\n",
    "import java.awt.image.BufferedImage\n",
    "\n",
    "fun draw(r: RobotGrid, message: String): BufferedImage {\n",
    "    val scale = 5\n",
    "    val sizeX = r.width * scale + scale\n",
    "    val sizeY = r.height * scale + scale + 100\n",
    "    return BufferedImage(sizeX, sizeY, BufferedImage.TYPE_INT_ARGB).apply {\n",
    "        createGraphics().also {\n",
    "            r.cells.forEach { pos, _ ->\n",
    "                val shape = Rectangle(scale * pos.column, scale * pos.row, scale, scale)\n",
    "                it.color = Color.GREEN\n",
    "                it.fill(shape)\n",
    "                it.color = Color.BLACK\n",
    "                it.draw(shape)\n",
    "            }\n",
    "            it.drawString(message, 10, r.height * scale + 20)\n",
    "        }\n",
    "    }\n",
    "}\n",
    "\n",
    "val initial = RobotGrid(parse(puzzle.input()), 103, 101)\n",
    "DISPLAY(draw(initial, \"initial\"), \"robots\")\n",
    "var grid = initial\n",
    "runBlocking {\n",
    "    (1..(101 * 103)).forEach { iterations ->\n",
    "        grid = grid.iterateOnce()\n",
    "        if (grid.countRobots(0, 60, 0, 10) < 10 && grid.countRobots(0, 10, 0, 40) < 10) {\n",
    "            delay(500)\n",
    "            UPDATE_DISPLAY(draw(grid, \"$iterations times\"), \"robots\")\n",
    "        }\n",
    "    }\n",
    "}\n"
   ],
   "outputs": [
    {
     "data": {
      "image/png": "[encoded data removed]",
      "text/plain": [
       "class java.awt.image.BufferedImage: 510x620 px"
      ]
     },
     "metadata": {},
     "output_type": "display_data"
    }
   ],
   "execution_count": 7
  },
  {
   "metadata": {
    "ExecuteTime": {
     "end_time": "2024-12-14T11:58:42.824649Z",
     "start_time": "2024-12-14T11:29:55.275936Z"
    }
   },
   "cell_type": "code",
   "source": "",
   "outputs": [],
   "execution_count": null
  }
 ],
 "metadata": {
  "kernelspec": {
   "display_name": "Kotlin",
   "language": "kotlin",
   "name": "kotlin"
  },
  "language_info": {
   "name": "kotlin",
   "version": "1.9.23",
   "mimetype": "text/x-kotlin",
   "file_extension": ".kt",
   "pygments_lexer": "kotlin",
   "codemirror_mode": "text/x-kotlin",
   "nbconvert_exporter": ""
  },
  "ktnbPluginMetadata": {
   "projectDependencies": [
    "MyAdventOfCode2024.jvmMain"
   ],
   "projectLibraries": false
  }
 },
 "nbformat": 4,
 "nbformat_minor": 0
}
