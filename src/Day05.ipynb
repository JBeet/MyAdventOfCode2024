{
 "cells": [
  {
   "cell_type": "code",
   "metadata": {
    "collapsed": true,
    "ExecuteTime": {
     "end_time": "2024-12-05T19:06:34.872086Z",
     "start_time": "2024-12-05T19:06:34.468947Z"
    }
   },
   "source": [
    "@file:DependsOn(\"com.toldoven.aoc:aoc-kotlin-notebook:1.1.2\")\n",
    "@file:DependsOn(\"org.jetbrains.kotlinx:kotlinx-coroutines-core:1.8.1\")"
   ],
   "outputs": [],
   "execution_count": 1
  },
  {
   "metadata": {
    "ExecuteTime": {
     "end_time": "2024-12-05T19:07:10.098272Z",
     "start_time": "2024-12-05T19:07:10.053691Z"
    }
   },
   "cell_type": "code",
   "source": [
    "import com.toldoven.aoc.notebook.AocClient\n",
    "\n",
    "val aoc = AocClient.fromEnv()\n",
    "val puzzle = aoc.interactiveDay(2024,5)"
   ],
   "outputs": [],
   "execution_count": 5
  },
  {
   "metadata": {
    "ExecuteTime": {
     "end_time": "2024-12-05T19:09:11.199839Z",
     "start_time": "2024-12-05T19:09:11.085358Z"
    }
   },
   "cell_type": "code",
   "source": "val (lines1, lines2) = puzzle.input().split(\"\\n\\n\").map { it.lines() }",
   "outputs": [],
   "execution_count": 10
  },
  {
   "metadata": {
    "ExecuteTime": {
     "end_time": "2024-12-05T19:14:27.240465Z",
     "start_time": "2024-12-05T19:14:27.105981Z"
    }
   },
   "cell_type": "code",
   "source": [
    "val rules: List<Pair<Int, Int>> = lines1.map {it.split('|')}.map { it.first().toInt() to it[1].toInt() }\n",
    "val items: List<List<Int>> = lines2.map { it.split(',').map { it.toInt() } }\n"
   ],
   "outputs": [],
   "execution_count": 17
  },
  {
   "metadata": {
    "ExecuteTime": {
     "end_time": "2024-12-05T19:16:47.253194Z",
     "start_time": "2024-12-05T19:16:47.083420Z"
    }
   },
   "cell_type": "code",
   "source": [
    "val comp = Comparator { o1: Int, o2: Int ->\n",
    "    when {\n",
    "        rules.contains(o1 to o2) -> -1\n",
    "        rules.contains(o2 to o1) -> +1\n",
    "        else -> 0\n",
    "    }\n",
    "}\n",
    "val (ordered, unordered) = items.partition { it.sortedWith(comp) == it }\n",
    "ordered.sumOf { it[it.size/2] }"
   ],
   "outputs": [
    {
     "data": {
      "text/plain": [
       "6951"
      ]
     },
     "execution_count": 22,
     "metadata": {},
     "output_type": "execute_result"
    }
   ],
   "execution_count": 22
  },
  {
   "metadata": {
    "ExecuteTime": {
     "end_time": "2024-12-05T19:17:02.176014Z",
     "start_time": "2024-12-05T19:17:02.049070Z"
    }
   },
   "cell_type": "code",
   "source": "unordered.map { it.sortedWith(comp) }.sumOf { it[it.size/2] }",
   "outputs": [
    {
     "data": {
      "text/plain": [
       "4121"
      ]
     },
     "execution_count": 23,
     "metadata": {},
     "output_type": "execute_result"
    }
   ],
   "execution_count": 23
  },
  {
   "metadata": {},
   "cell_type": "code",
   "outputs": [],
   "execution_count": null,
   "source": ""
  }
 ],
 "metadata": {
  "kernelspec": {
   "display_name": "Kotlin",
   "language": "kotlin",
   "name": "kotlin"
  },
  "language_info": {
   "name": "kotlin",
   "version": "1.9.23",
   "mimetype": "text/x-kotlin",
   "file_extension": ".kt",
   "pygments_lexer": "kotlin",
   "codemirror_mode": "text/x-kotlin",
   "nbconvert_exporter": ""
  },
  "ktnbPluginMetadata": {
   "projectLibraries": false
  }
 },
 "nbformat": 4,
 "nbformat_minor": 0
}
