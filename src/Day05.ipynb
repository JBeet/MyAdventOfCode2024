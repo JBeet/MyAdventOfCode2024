{
 "cells": [
  {
   "cell_type": "code",
   "metadata": {
    "collapsed": true
   },
   "source": "%use adventOfCode",
   "outputs": [],
   "execution_count": null
  },
  {
   "metadata": {},
   "cell_type": "code",
   "source": [
    "val aoc = AocClient.fromEnv()\n",
    "val puzzle = aoc.interactiveDay(2024,5)"
   ],
   "outputs": [],
   "execution_count": null
  },
  {
   "metadata": {},
   "cell_type": "code",
   "source": "val (lines1, lines2) = puzzle.input().split(\"\\n\\n\").map { it.lines() }",
   "outputs": [],
   "execution_count": null
  },
  {
   "metadata": {},
   "cell_type": "code",
   "source": [
    "val rules: List<Pair<Int, Int>> = lines1.map {it.split('|')}.map { it.first().toInt() to it[1].toInt() }\n",
    "val items: List<List<Int>> = lines2.map { it.split(',').map { it.toInt() } }"
   ],
   "outputs": [],
   "execution_count": null
  },
  {
   "metadata": {},
   "cell_type": "code",
   "source": [
    "val comp = Comparator { o1: Int, o2: Int ->\n",
    "    when {\n",
    "        rules.contains(o1 to o2) -> -1\n",
    "        rules.contains(o2 to o1) -> +1\n",
    "        else -> 0\n",
    "    }\n",
    "}\n",
    "val (ordered, unordered) = items.partition { it.sortedWith(comp) == it }\n",
    "ordered.sumOf { it[it.size/2] }"
   ],
   "outputs": [],
   "execution_count": null
  },
  {
   "metadata": {},
   "cell_type": "code",
   "source": "unordered.map { it.sortedWith(comp) }.sumOf { it[it.size/2] }",
   "outputs": [],
   "execution_count": null
  },
  {
   "metadata": {},
   "cell_type": "code",
   "source": "",
   "outputs": [],
   "execution_count": null
  }
 ],
 "metadata": {
  "kernelspec": {
   "display_name": "Kotlin",
   "language": "kotlin",
   "name": "kotlin"
  },
  "language_info": {
   "name": "kotlin",
   "version": "1.9.23",
   "mimetype": "text/x-kotlin",
   "file_extension": ".kt",
   "pygments_lexer": "kotlin",
   "codemirror_mode": "text/x-kotlin",
   "nbconvert_exporter": ""
  },
  "ktnbPluginMetadata": {
   "projectLibraries": false
  }
 },
 "nbformat": 4,
 "nbformat_minor": 0
}
