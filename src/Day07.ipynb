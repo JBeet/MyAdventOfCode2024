{
 "cells": [
  {
   "cell_type": "code",
   "metadata": {
    "collapsed": true,
    "ExecuteTime": {
     "end_time": "2024-12-07T11:33:59.338129Z",
     "start_time": "2024-12-07T11:33:58.877388Z"
    }
   },
   "source": "%use adventOfCode",
   "outputs": [],
   "execution_count": 1
  },
  {
   "metadata": {
    "ExecuteTime": {
     "end_time": "2024-12-07T11:33:59.681727Z",
     "start_time": "2024-12-07T11:33:59.587263Z"
    }
   },
   "cell_type": "code",
   "source": [
    "val problem = AocClient.fromEnv().interactiveDay(2024, 7)\n",
    "problem.viewPartOne()"
   ],
   "outputs": [
    {
     "data": {
      "text/html": [
       "<h2>--- Day 7: Bridge Repair ---</h2>\n",
       "<p>The Historians take you to a familiar <a href=\"/2022/day/9\">rope bridge</a> over a river in the middle of a jungle. The Chief isn't on this side of the bridge, though; maybe he's on the other side?</p> \n",
       "<p>When you go to cross the bridge, you notice a group of engineers trying to repair it. (Apparently, it breaks pretty frequently.) You won't be able to cross until it's fixed.</p> \n",
       "<p>You ask how long it'll take; the engineers tell you that it only needs final calibrations, but some young elephants were playing nearby and <em>stole all the operators</em> from their calibration equations! They could finish the calibrations if only someone could determine which test values could possibly be produced by placing any combination of operators into their calibration equations (your puzzle input).</p> \n",
       "<p>For example:</p> \n",
       "<pre><code>190: 10 19\n",
       "3267: 81 40 27\n",
       "83: 17 5\n",
       "156: 15 6\n",
       "7290: 6 8 6 15\n",
       "161011: 16 10 13\n",
       "192: 17 8 14\n",
       "21037: 9 7 18 13\n",
       "292: 11 6 16 20\n",
       "</code></pre> \n",
       "<p>Each line represents a single equation. The test value appears before the colon on each line; it is your job to determine whether the remaining numbers can be combined with operators to produce the test value.</p> \n",
       "<p>Operators are <em>always evaluated left-to-right</em>, <em>not</em> according to precedence rules. Furthermore, numbers in the equations cannot be rearranged. Glancing into the jungle, you can see elephants holding two different types of operators: <em>add</em> (<code>+</code>) and <em>multiply</em> (<code>*</code>).</p> \n",
       "<p>Only three of the above equations can be made true by inserting operators:</p> \n",
       "<ul> \n",
       " <li><code>190: 10 19</code> has only one position that accepts an operator: between <code>10</code> and <code>19</code>. Choosing <code>+</code> would give <code>29</code>, but choosing <code>*</code> would give the test value (<code>10 * 19 = 190</code>).</li> \n",
       " <li><code>3267: 81 40 27</code> has two positions for operators. Of the four possible configurations of the operators, <em>two</em> cause the right side to match the test value: <code>81 + 40 * 27</code> and <code>81 * 40 + 27</code> both equal <code>3267</code> (when evaluated left-to-right)!</li> \n",
       " <li><code>292: 11 6 16 20</code> can be solved in exactly one way: <code>11 + 6 * 16 + 20</code>.</li> \n",
       "</ul> \n",
       "<p>The engineers just need the <em>total calibration result</em>, which is the sum of the test values from just the equations that could possibly be true. In the above example, the sum of the test values for the three equations listed above is <code><em>3749</em></code>.</p> \n",
       "<p>Determine which equations could possibly be true. <em>What is their total calibration result?</em></p>"
      ]
     },
     "execution_count": 2,
     "metadata": {},
     "output_type": "execute_result"
    }
   ],
   "execution_count": 2
  },
  {
   "metadata": {
    "ExecuteTime": {
     "end_time": "2024-12-07T11:34:00.803043Z",
     "start_time": "2024-12-07T11:34:00.769011Z"
    }
   },
   "cell_type": "code",
   "source": [
    "val testInput = \"\"\"190: 10 19\n",
    "3267: 81 40 27\n",
    "83: 17 5\n",
    "156: 15 6\n",
    "7290: 6 8 6 15\n",
    "161011: 16 10 13\n",
    "192: 17 8 14\n",
    "21037: 9 7 18 13\n",
    "292: 11 6 16 20\n",
    "\"\"\"\n",
    "\n"
   ],
   "outputs": [],
   "execution_count": 3
  },
  {
   "metadata": {
    "ExecuteTime": {
     "end_time": "2024-12-07T11:34:12.995347Z",
     "start_time": "2024-12-07T11:34:12.716521Z"
    }
   },
   "cell_type": "code",
   "source": [
    "import utils.longs\n",
    "\n",
    "data class Equation(val testValue: Long, val numbers: List<Long>)\n",
    "fun Equation(line: String) = Equation(line.substringBefore(':').toLong(), line.substringAfter(':').longs())\n",
    "fun parse(input: String) = input.lines().filter { it.isNotBlank() }.map { Equation(it) }\n",
    "parse(testInput)\n"
   ],
   "outputs": [
    {
     "data": {
      "text/plain": [
       "[Equation(testValue=190, numbers=[10, 19]), Equation(testValue=3267, numbers=[81, 40, 27]), Equation(testValue=83, numbers=[17, 5]), Equation(testValue=156, numbers=[15, 6]), Equation(testValue=7290, numbers=[6, 8, 6, 15]), Equation(testValue=161011, numbers=[16, 10, 13]), Equation(testValue=192, numbers=[17, 8, 14]), Equation(testValue=21037, numbers=[9, 7, 18, 13]), Equation(testValue=292, numbers=[11, 6, 16, 20])]"
      ]
     },
     "execution_count": 5,
     "metadata": {},
     "output_type": "execute_result"
    }
   ],
   "execution_count": 5
  },
  {
   "metadata": {
    "ExecuteTime": {
     "end_time": "2024-12-07T11:34:45.032149Z",
     "start_time": "2024-12-07T11:34:44.906230Z"
    }
   },
   "cell_type": "code",
   "source": [
    "private fun Equation.check(curValue: Long, nextIndex: Int): Boolean {\n",
    "    if (nextIndex >= numbers.size) return curValue == testValue\n",
    "    if (curValue > testValue) return false\n",
    "    val nextValue = numbers[nextIndex]\n",
    "    return check(curValue + nextValue, nextIndex + 1) || check(curValue * nextValue, nextIndex + 1)\n",
    "}\n",
    "\n",
    "fun solve(input: String) = parse(input).filter { it.check(it.numbers[0], 1) }.sumOf { it.testValue }\n",
    "solve(testInput)"
   ],
   "outputs": [
    {
     "data": {
      "text/plain": [
       "3749"
      ]
     },
     "execution_count": 9,
     "metadata": {},
     "output_type": "execute_result"
    }
   ],
   "execution_count": 9
  },
  {
   "metadata": {
    "ExecuteTime": {
     "end_time": "2024-12-07T11:34:51.917118Z",
     "start_time": "2024-12-07T11:34:51.859566Z"
    }
   },
   "cell_type": "code",
   "source": "solve(problem.input())",
   "outputs": [
    {
     "data": {
      "text/plain": [
       "5702958180383"
      ]
     },
     "execution_count": 10,
     "metadata": {},
     "output_type": "execute_result"
    }
   ],
   "execution_count": 10
  },
  {
   "metadata": {
    "ExecuteTime": {
     "end_time": "2024-12-07T11:35:00.065871Z",
     "start_time": "2024-12-07T11:34:59.941277Z"
    }
   },
   "cell_type": "code",
   "source": [
    "private fun Equation.check2(curValue: Long, nextIndex: Int): Boolean {\n",
    "    if (nextIndex >= numbers.size) return curValue == testValue\n",
    "    if (curValue > testValue) return false\n",
    "    val nextValue = numbers[nextIndex]\n",
    "    if (check2(curValue + nextValue, nextIndex + 1)) return true\n",
    "    if (check2(curValue * nextValue, nextIndex + 1)) return true\n",
    "    if (check2((curValue.toString() + nextValue.toString()).toLong(), nextIndex + 1)) return true\n",
    "    return false\n",
    "}\n",
    "\n",
    "fun solve2(input: String) = parse(input).filter { it.check2(it.numbers[0], 1) }.sumOf { it.testValue }\n",
    "\n",
    "solve2(testInput)"
   ],
   "outputs": [
    {
     "data": {
      "text/plain": [
       "11387"
      ]
     },
     "execution_count": 11,
     "metadata": {},
     "output_type": "execute_result"
    }
   ],
   "execution_count": 11
  },
  {
   "metadata": {
    "ExecuteTime": {
     "end_time": "2024-12-07T11:35:01.367765Z",
     "start_time": "2024-12-07T11:35:01.141046Z"
    }
   },
   "cell_type": "code",
   "source": "solve2(problem.input())",
   "outputs": [
    {
     "data": {
      "text/plain": [
       "92612386119138"
      ]
     },
     "execution_count": 12,
     "metadata": {},
     "output_type": "execute_result"
    }
   ],
   "execution_count": 12
  },
  {
   "metadata": {},
   "cell_type": "code",
   "outputs": [],
   "execution_count": null,
   "source": ""
  }
 ],
 "metadata": {
  "kernelspec": {
   "display_name": "Kotlin",
   "language": "kotlin",
   "name": "kotlin"
  },
  "language_info": {
   "name": "kotlin",
   "version": "1.9.23",
   "mimetype": "text/x-kotlin",
   "file_extension": ".kt",
   "pygments_lexer": "kotlin",
   "codemirror_mode": "text/x-kotlin",
   "nbconvert_exporter": ""
  },
  "ktnbPluginMetadata": {
   "projectDependencies": [
    "MyAdventOfCode2024.jvmMain"
   ],
   "projectLibraries": false
  }
 },
 "nbformat": 4,
 "nbformat_minor": 0
}
